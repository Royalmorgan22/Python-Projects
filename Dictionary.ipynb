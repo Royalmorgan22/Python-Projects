{
 "cells": [
  {
   "cell_type": "code",
   "execution_count": 14,
   "id": "25967743",
   "metadata": {},
   "outputs": [],
   "source": [
    "# A simple dictionary code. This program allows the user to search any word and return the ouput if the word exists in the dictionary."
   ]
  },
  {
   "cell_type": "code",
   "execution_count": 15,
   "id": "a741c7f2",
   "metadata": {},
   "outputs": [],
   "source": [
    "#Importing the json module \n",
    "\n",
    "import json"
   ]
  },
  {
   "cell_type": "code",
   "execution_count": 16,
   "id": "9cf776f8",
   "metadata": {},
   "outputs": [],
   "source": [
    "#loading and opening the json dictionary file.\n",
    "\n",
    "data = json.load(open('data.json'))"
   ]
  },
  {
   "cell_type": "code",
   "execution_count": 17,
   "id": "8c998d8b",
   "metadata": {},
   "outputs": [],
   "source": [
    "# Defining the word translation\n",
    "\n",
    "def translate(word):\n",
    "    # The program returns the word even if its entered either in upper or lower case as well as with title\n",
    "    if word.lower() in data:\n",
    "        return data[word.lower()]\n",
    "    elif word.title() in data:\n",
    "        return data[word.title()]\n",
    "    elif word.upper() in data:\n",
    "        return data[word.upper()]\n",
    "    else:\n",
    "        print(\"No match found\")\n",
    "        \n",
    "    "
   ]
  },
  {
   "cell_type": "code",
   "execution_count": 18,
   "id": "256be09f",
   "metadata": {},
   "outputs": [
    {
     "name": "stdout",
     "output_type": "stream",
     "text": [
      "Please enter the word: man\n",
      "['A member of the human species.', 'The generic name for a piece used in board games.', 'All human beings.', 'An adult human member of the sex that begets young by fertilizing ova.']\n"
     ]
    }
   ],
   "source": [
    "# User input and returning the result.\n",
    "word = input(\"Please enter the word: \")\n",
    "result = translate(word)\n",
    "\n",
    "print(result)"
   ]
  },
  {
   "cell_type": "code",
   "execution_count": 13,
   "id": "416df645",
   "metadata": {},
   "outputs": [
    {
     "name": "stdout",
     "output_type": "stream",
     "text": [
      "Please enter the word: Man\n",
      "['A member of the human species.', 'The generic name for a piece used in board games.', 'All human beings.', 'An adult human member of the sex that begets young by fertilizing ova.']\n"
     ]
    }
   ],
   "source": [
    "\n",
    "\n",
    "\n"
   ]
  },
  {
   "cell_type": "code",
   "execution_count": null,
   "id": "4ac4b480",
   "metadata": {},
   "outputs": [],
   "source": []
  }
 ],
 "metadata": {
  "kernelspec": {
   "display_name": "Python 3",
   "language": "python",
   "name": "python3"
  },
  "language_info": {
   "codemirror_mode": {
    "name": "ipython",
    "version": 3
   },
   "file_extension": ".py",
   "mimetype": "text/x-python",
   "name": "python",
   "nbconvert_exporter": "python",
   "pygments_lexer": "ipython3",
   "version": "3.8.8"
  }
 },
 "nbformat": 4,
 "nbformat_minor": 5
}
